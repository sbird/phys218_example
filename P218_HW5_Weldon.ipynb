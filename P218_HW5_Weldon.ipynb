{
 "cells": [
  {
   "cell_type": "markdown",
   "metadata": {},
   "source": [
    "## Problem 5.3 Writing python. \n",
    "\n",
    "a) Write a python script, using pint, which finds the Schwarzchild radius of the Sun, in m."
   ]
  },
  {
   "cell_type": "code",
   "execution_count": 78,
   "metadata": {},
   "outputs": [],
   "source": [
    "#Importing libraries\n",
    "from pint import UnitRegistry\n",
    "import numpy as np\n",
    "from halo_mass_function import HaloMassFunction\n",
    "import time\n",
    "from astropy import constants as const"
   ]
  },
  {
   "cell_type": "code",
   "execution_count": 79,
   "metadata": {},
   "outputs": [],
   "source": [
    "ureg = UnitRegistry()"
   ]
  },
  {
   "cell_type": "code",
   "execution_count": 80,
   "metadata": {},
   "outputs": [
    {
     "name": "stdout",
     "output_type": "stream",
     "text": [
      "2953.2500761002498 meter\n"
     ]
    }
   ],
   "source": [
    "#creating constants using pint to set thier untis\n",
    "G = const.G.value * ureg.meter**3 * ureg.kilogram**-1 * ureg.second**-2\n",
    "M_sun = const.M_sun.value * ureg.kilogram\n",
    "c = const.c.value * ureg.meter * ureg.second**-1\n",
    "print((2*G*M_sun)/c**2)"
   ]
  },
  {
   "cell_type": "markdown",
   "metadata": {},
   "source": [
    "**b) Using the “halo_mass_function.py” script, write a python function to compute the total number of halos at z = 0 (and with the default cosmological parameters) with a mass above 10^12M⊙, according to one of the listed halo mass function formulae.**"
   ]
  },
  {
   "cell_type": "code",
   "execution_count": 81,
   "metadata": {},
   "outputs": [],
   "source": [
    "#initializing the class with a redshift of z and the default mass function (tinker_200)\n",
    "test = HaloMassFunction(0)"
   ]
  },
  {
   "cell_type": "code",
   "execution_count": 82,
   "metadata": {},
   "outputs": [
    {
     "name": "stdout",
     "output_type": "stream",
     "text": [
      "25.778884560276477\n"
     ]
    }
   ],
   "source": [
    "#creating an array of stellar masses between 10^12 and 10^20 \n",
    "ugh = np.logspace(12,20,100000)\n",
    "#calculating the number of halos at z=0\n",
    "print(np.sum([test.dndm(ugh[ii])*(ugh[ii]) for ii in range(len(ugh))]))"
   ]
  },
  {
   "cell_type": "markdown",
   "metadata": {},
   "source": [
    "**c) Write a simple routine to multiply two matrices together in python. Write one routine using nested for loops, one using a list comprehension, and one using the built-in numpy matrix multiplication routines.**"
   ]
  },
  {
   "cell_type": "code",
   "execution_count": 83,
   "metadata": {},
   "outputs": [],
   "source": [
    "#creating two matrices\n",
    "x = np.array([[1.,2.,3.],[4.,5.,6.],[7.,8.,9.]])\n",
    "y = np.array([[1.,2.,3.,4.],[5.,6.,7.,8.],[9.,1.,2.,3.]])"
   ]
  },
  {
   "cell_type": "code",
   "execution_count": 84,
   "metadata": {},
   "outputs": [
    {
     "name": "stdout",
     "output_type": "stream",
     "text": [
      "[[ 38.  17.  23.  29.]\n",
      " [ 83.  44.  59.  74.]\n",
      " [128.  71.  95. 119.]]\n"
     ]
    }
   ],
   "source": [
    "#multiplying two matrices using nested for loops\n",
    "\n",
    "#empty array to hold the product of the two arrays above\n",
    "result = np.zeros([x.shape[0],y.shape[1]])\n",
    "\n",
    "#looping over each row in x\n",
    "for ii in range(x.shape[0]):\n",
    "    #looping over each column in y\n",
    "    for jj in range(y.shape[1]):\n",
    "        #multiplying the column of y by the row of x\n",
    "        result[ii][jj] = np.sum(x[ii]*y[:,jj])\n",
    "        \n",
    "print(result)"
   ]
  },
  {
   "cell_type": "code",
   "execution_count": 85,
   "metadata": {},
   "outputs": [
    {
     "name": "stdout",
     "output_type": "stream",
     "text": [
      "[[38.0, 17.0, 23.0, 29.0], [83.0, 44.0, 59.0, 74.0], [128.0, 71.0, 95.0, 119.0]]\n"
     ]
    }
   ],
   "source": [
    "#multiplying two matrices using list comprehension\n",
    "result = [[sum(a*b for a,b in zip(X_row,Y_col)) for Y_col in zip(*y)] for X_row in x]\n",
    "print(result)"
   ]
  },
  {
   "cell_type": "code",
   "execution_count": 86,
   "metadata": {},
   "outputs": [
    {
     "name": "stdout",
     "output_type": "stream",
     "text": [
      "[[ 38.  17.  23.  29.]\n",
      " [ 83.  44.  59.  74.]\n",
      " [128.  71.  95. 119.]]\n"
     ]
    }
   ],
   "source": [
    "#multiplying two matrices using numpy.dot\n",
    "result = np.dot(x,y)\n",
    "print(result)"
   ]
  },
  {
   "cell_type": "markdown",
   "metadata": {},
   "source": [
    "**d) Write a simple test for the above routine that multiplies a large matrix with its inverse to obtain the identity. Use this test to evaluate how fast each of the routines in (c) are.**"
   ]
  },
  {
   "cell_type": "code",
   "execution_count": 87,
   "metadata": {},
   "outputs": [],
   "source": [
    "#creating a large array with random elements\n",
    "np.random.seed(10)\n",
    "x = np.random.randint(10, size=(8, 8))\n",
    "#using numpy to calculate its inverse\n",
    "invx = np.linalg.inv(x)"
   ]
  },
  {
   "cell_type": "code",
   "execution_count": 88,
   "metadata": {},
   "outputs": [
    {
     "name": "stdout",
     "output_type": "stream",
     "text": [
      "time elapse: 0.001432180404663086\n"
     ]
    }
   ],
   "source": [
    "#calculating how long nested for loops take to multiply two matrices\n",
    "start = time.time()\n",
    "result = np.zeros([x.shape[0],invx.shape[1]])\n",
    "\n",
    "for ii in range(x.shape[0]):\n",
    "    for jj in range(invx.shape[1]):\n",
    "        result[ii][jj] = np.sum(x[ii,:]*invx[:,jj])\n",
    "end = time.time()\n",
    "print('time elapse: '+str(end - start))"
   ]
  },
  {
   "cell_type": "code",
   "execution_count": 89,
   "metadata": {},
   "outputs": [
    {
     "name": "stdout",
     "output_type": "stream",
     "text": [
      "time elapse: 0.0036559104919433594\n"
     ]
    }
   ],
   "source": [
    "#calculating how long list comprehension takes to multiply two matrices\n",
    "start = time.time()\n",
    "\n",
    "result = [[sum(a*b for a,b in zip(X_row,Y_col)) for Y_col in zip(*invx)] for X_row in x]\n",
    "\n",
    "end = time.time()\n",
    "print('time elapse: '+str(end - start))"
   ]
  },
  {
   "cell_type": "code",
   "execution_count": 90,
   "metadata": {},
   "outputs": [
    {
     "name": "stdout",
     "output_type": "stream",
     "text": [
      "time elapse: 0.00021719932556152344\n"
     ]
    }
   ],
   "source": [
    "#calculating how long numpy takes to multiply two matrices\n",
    "start = time.time()\n",
    "\n",
    "result = np.dot(x,invx)\n",
    "\n",
    "end = time.time()\n",
    "print('time elapse: '+str(end - start))"
   ]
  },
  {
   "cell_type": "code",
   "execution_count": null,
   "metadata": {},
   "outputs": [],
   "source": []
  }
 ],
 "metadata": {
  "kernelspec": {
   "display_name": "Python 3",
   "language": "python",
   "name": "python3"
  },
  "language_info": {
   "codemirror_mode": {
    "name": "ipython",
    "version": 3
   },
   "file_extension": ".py",
   "mimetype": "text/x-python",
   "name": "python",
   "nbconvert_exporter": "python",
   "pygments_lexer": "ipython3",
   "version": "3.7.3"
  }
 },
 "nbformat": 4,
 "nbformat_minor": 2
}
