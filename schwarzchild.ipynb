{
 "cells": [
  {
   "cell_type": "markdown",
   "id": "da9f47ba-2fb4-4ac5-9581-4f6f05b5d2e4",
   "metadata": {},
   "source": [
    "Problem 1.3.a."
   ]
  },
  {
   "cell_type": "code",
   "execution_count": 1,
   "id": "b7ccde90-d65f-408f-82f7-ba12bcf9c895",
   "metadata": {},
   "outputs": [
    {
     "name": "stdout",
     "output_type": "stream",
     "text": [
      "Schwarzschild radius of the Sun: 2953.9779243533935 meter\n"
     ]
    }
   ],
   "source": [
    "import pint\n",
    "ureg  = pint.UnitRegistry()\n",
    "\n",
    "G     = 6.67430e-11 * ureg.meter**3 / (ureg.kilogram * ureg.second**2)\n",
    "M_sun = 1.989e30 * ureg.kilogram\n",
    "c     = 2.998e8 * ureg.meter / ureg.second\n",
    "\n",
    "# Schwarzschild radius\n",
    "R_s   = (2 * G * M_sun) / c**2\n",
    "\n",
    "print(f\"Schwarzschild radius of the Sun: {R_s.to(ureg.meter)}\")"
   ]
  },
  {
   "cell_type": "markdown",
   "id": "a9afa71f-4643-4c4c-9256-245e7a4072a8",
   "metadata": {},
   "source": [
    "Problem 1.3.b."
   ]
  },
  {
   "cell_type": "code",
   "execution_count": 3,
   "id": "e093b079-b8d9-48ca-8341-01a663c3fd3a",
   "metadata": {},
   "outputs": [],
   "source": [
    "# Using nested for loops\n",
    "def matrix_multiply_loops(A, B):\n",
    "    result = [[0 for _ in range(len(B[0]))] for _ in range(len(A))]\n",
    "    for i in range(len(A)):\n",
    "        for j in range(len(B[0])):\n",
    "            for k in range(len(B)):\n",
    "                result[i][j] += A[i][k] * B[k][j]\n",
    "    return result\n",
    "\n",
    "# Using a list comprehension\n",
    "def matrix_multiply_list_comp(A, B):\n",
    "    return [[sum(A[i][k] * B[k][j] for k in range(len(B))) for j in range(len(B[0]))] for i in range(len(A))]\n",
    "\n",
    "# Using the built-in numpy matrix multiplication routines\n",
    "import numpy as np\n",
    "def matrix_multiply_numpy(A, B):\n",
    "    return np.dot(A, B)"
   ]
  },
  {
   "cell_type": "markdown",
   "id": "b0b38b84-d86c-42ed-b306-84d170baa952",
   "metadata": {},
   "source": [
    "Problem 1.3.c."
   ]
  },
  {
   "cell_type": "code",
   "execution_count": 14,
   "id": "2a2329c0-aa74-4814-8aa1-7b7737f3c73e",
   "metadata": {},
   "outputs": [
    {
     "name": "stdout",
     "output_type": "stream",
     "text": [
      "Method: nested for loops\n",
      "Result:  True\n",
      "Time taken: 0.42284202575683594 seconds\n",
      "Method: a list comprehension\n",
      "Result:  True\n",
      "Time taken with list comprehension: 0.3502190113067627 seconds\n",
      "Method: the built-in numpy matrix multiplication routines\n",
      "Result:  True\n",
      "Time taken with NumPy: 0.0010690689086914062 seconds\n"
     ]
    }
   ],
   "source": [
    "A     = np.random.rand(200, 200) # Create a large random matrix\n",
    "A_inv = np.linalg.inv(A)         # Compute its inverse\n",
    "I     = np.eye(200)              # Identity matrix for comparison\n",
    "\n",
    "import time\n",
    "\n",
    "# Test with using nested for loops\n",
    "print('Method: nested for loops')\n",
    "start        = time.time()\n",
    "result_loops = matrix_multiply_loops(A.tolist(), A_inv.tolist())\n",
    "end          = time.time()\n",
    "print('Result: ', np.allclose(result_loops, I))\n",
    "print(f'Time taken: {end - start} seconds')\n",
    "\n",
    "# Test with using a list comprehension\n",
    "print('Method: a list comprehension')\n",
    "start            = time.time()\n",
    "result_list_comp = matrix_multiply_list_comp(A.tolist(), A_inv.tolist())\n",
    "end              = time.time()\n",
    "print('Result: ', np.allclose(result_list_comp, I))\n",
    "print(f\"Time taken with list comprehension: {end - start} seconds\")\n",
    "\n",
    "# Test with using the built-in numpy matrix multiplication routines\n",
    "print('Method: the built-in numpy matrix multiplication routines')\n",
    "start        = time.time()\n",
    "result_numpy = matrix_multiply_numpy(A, A_inv)\n",
    "end          = time.time()\n",
    "print('Result: ', np.allclose(result_numpy, I))\n",
    "print(f\"Time taken with NumPy: {end - start} seconds\")"
   ]
  },
  {
   "cell_type": "code",
   "execution_count": null,
   "id": "c85da8d3-450f-49a8-b4fa-0412bc91e0c9",
   "metadata": {},
   "outputs": [],
   "source": []
  }
 ],
 "metadata": {
  "kernelspec": {
   "display_name": "Python 3 (ipykernel)",
   "language": "python",
   "name": "python3"
  },
  "language_info": {
   "codemirror_mode": {
    "name": "ipython",
    "version": 3
   },
   "file_extension": ".py",
   "mimetype": "text/x-python",
   "name": "python",
   "nbconvert_exporter": "python",
   "pygments_lexer": "ipython3",
   "version": "3.12.4"
  }
 },
 "nbformat": 4,
 "nbformat_minor": 5
}
